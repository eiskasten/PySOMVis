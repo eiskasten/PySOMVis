{
 "cells": [
  {
   "attachments": {},
   "cell_type": "markdown",
   "id": "ba3cbeba-ed01-48fa-af6f-22eeab12ec83",
   "metadata": {},
   "source": [
    "# SOM Exercise\n",
    "### Richard Stöckl, 11908080 and Victor Olusesi, 11776826 and Richard Binder, 01425185\n",
    "\n",
    "We implemented Task (f) of the coding assignment: SOM comparison. We chose Aggregation as coloring, comparing one against n maps. Our GitHub Repo is a fork from the original PySOMVis project and available under [this link](https://github.com/eiskasten/PySOMVis)."
   ]
  },
  {
   "cell_type": "code",
   "execution_count": null,
   "id": "c7cf75c3",
   "metadata": {
    "ExecuteTime": {
     "end_time": "2024-02-04T17:56:30.670365352Z",
     "start_time": "2024-02-04T17:56:30.432456290Z"
    }
   },
   "outputs": [],
   "source": [
    "# Switch between bokeh or matplotlib backend\n",
    "# backend = \"bokeh\"\n",
    "backend = \"matplotlib\"\n",
    "\n",
    "import os.path\n",
    "import numpy as np\n",
    "import pandas as pdcoding\n",
    "import gzip\n",
    "import panel as pn\n",
    "import holoviews as hv\n",
    "import matplotlib\n",
    "import matplotlib.pyplot as plt\n",
    "from holoviews import opts\n",
    "from bokeh.plotting import show\n",
    "import math\n",
    "from SOMToolBox_Parse import SOMToolBox_Parse\n",
    "from pysomvis import PySOMVis\n",
    "from IPython.display import Image, display, Markdown"
   ]
  },
  {
   "cell_type": "code",
   "execution_count": null,
   "id": "2463cad2-ae17-4a2b-b394-7b504fbc5681",
   "metadata": {},
   "outputs": [],
   "source": [
    "%matplotlib inline\n",
    "matplotlib.use('TkAgg')\n",
    "hv.extension(backend)"
   ]
  },
  {
   "cell_type": "code",
   "execution_count": null,
   "id": "43624525-3374-45dc-a33d-e9bb749830cf",
   "metadata": {},
   "outputs": [],
   "source": [
    "def show_layout(layout):\n",
    "    render = hv.render(layout)\n",
    "    if backend == \"bokeh\":\n",
    "        show(render)\n",
    "    elif backend == \"matplotlib\":\n",
    "        display(render)"
   ]
  },
  {
   "cell_type": "markdown",
   "id": "94e003c3-5b72-4f97-9541-585e38315b2c",
   "metadata": {},
   "source": [
    "# Usage\n",
    "\n",
    "To use our comparison implementation, use any of the SOMs in the chainlink or 10clusters datasets folders and call the show_comparison_histo function. For examples, see the \"Comparison\" section."
   ]
  },
  {
   "cell_type": "markdown",
   "id": "65ca1c78-91af-46c0-a7b1-0f0dce6945e8",
   "metadata": {},
   "source": [
    "# Implementation\n",
    "\n",
    "The implementation is based on the mathematical summary of [this TU Wien master thesis](https://www.ifs.tuwien.ac.at/~andi/download/thesis/bau_thesis07.pdf#subsection.3.3.2) by Doris Baum."
   ]
  },
  {
   "cell_type": "markdown",
   "id": "1df1a797-694e-43a0-a1f7-7991b0161945",
   "metadata": {},
   "source": [
    "### Get input data and class data"
   ]
  },
  {
   "cell_type": "code",
   "execution_count": null,
   "id": "a7c286f6",
   "metadata": {
    "ExecuteTime": {
     "end_time": "2024-02-04T17:56:30.763438068Z",
     "start_time": "2024-02-04T17:56:30.673869974Z"
    }
   },
   "outputs": [],
   "source": [
    "chainlink_base_folder = \"datasets\\\\chainlink\"\n",
    "chainlink_idata = SOMToolBox_Parse(os.path.join(chainlink_base_folder, 'chainlink.vec')).read_weight_file()\n",
    "chainlink_classes = SOMToolBox_Parse(os.path.join(chainlink_base_folder, 'chainlink.cls')).read_weight_file()\n",
    "cluster_base_folder = \"datasets\\\\10clusters\"\n",
    "cluster_idata = SOMToolBox_Parse(os.path.join(cluster_base_folder, '10clusters.vec')).read_weight_file()\n",
    "cluster_classes = SOMToolBox_Parse(os.path.join(cluster_base_folder, '10clusters.cls')).read_weight_file()"
   ]
  },
  {
   "cell_type": "markdown",
   "id": "f3900ef6-92aa-4eaa-b615-dd90af8a6b5c",
   "metadata": {},
   "source": [
    "### Get a comparison histogram between one main SOM and one or more comparison SOMs\n",
    "# TODO -> Change description\n",
    "The comparison implementation involves two key steps for each provided comparison SOM. Firstly, for every input vector, the position of the unit it is mapped to is determined in both the main SOM and the comparison SOM. Then the Euclidean distance between these positions is computed and added to the total distance of the corresponding unit. This distance is individually tracked for each unit in the distance matrix at the same position as the units position in the main SOM. Additionally, a seperate counter, of which every unit has its own, is incremented, to keep track of the amount of vectors mapped to a unit. Once this process is complete, the average distance for each unit is obtained by dividing its total distance by the counter value. This process is repeated for every additional comparison SOM. In the final step, the average distances are summed up across all the comparison SOMs and divided by the number of comparison SOMs."
   ]
  },
  {
   "cell_type": "code",
   "execution_count": null,
   "id": "8358374d",
   "metadata": {
    "ExecuteTime": {
     "end_time": "2024-02-04T17:56:30.820273873Z",
     "start_time": "2024-02-04T17:56:30.736146922Z"
    },
    "editable": true,
    "slideshow": {
     "slide_type": ""
    },
    "tags": []
   },
   "outputs": [],
   "source": [
    "def get_comparison_histo(_m, _n, _weights_main, _idata, _weights_compare):\n",
    "    _s = len(_weights_compare)\n",
    "\n",
    "    # first calculate which unit each data vector belongs to (dynamic programming)\n",
    "    maxAssignments = len(_idata)\n",
    "    unitMatrix = np.zeros((_s, _m , _n, maxAssignments)).astype(int)\n",
    "    for s, w in enumerate(_weights_compare):\n",
    "        w = w['arr']\n",
    "        for i, vector in enumerate(_idata):\n",
    "            position = np.argmin(np.sqrt(np.sum(np.power(_weights_main - vector, 2), axis=1)))\n",
    "            x1 = position % _n\n",
    "            y1 = position // _n\n",
    "\n",
    "            # store number of assigned vectors in first element\n",
    "            unitMatrix[s][y1][x1][0] += 1\n",
    "            k = unitMatrix[s][y1][x1][0]\n",
    "            unitMatrix[s][y1][x1][k] = i\n",
    "\n",
    "    # now calculate the average distance of all possible vector pairs of each unit of each comparison SOM\n",
    "    distanceMatrix = np.zeros((_s, _m , _n))\n",
    "    # loop over all comparison SOMs\n",
    "    for s, w in enumerate(_weights_compare):\n",
    "        w = w['arr']\n",
    "        # loop over all units\n",
    "        for j in range(_n):\n",
    "            for i in range(_m):\n",
    "                # loop over all possible vector pairs\n",
    "                _k = unitMatrix[s][i][j][0].astype(int)\n",
    "                for k1 in range(_k):\n",
    "                    for k2 in range(_k):\n",
    "                        if k2 > k1:\n",
    "                            vector_index1 = unitMatrix[s][i][j][k1]\n",
    "                            vector_index2 = unitMatrix[s][i][j][k2]\n",
    "                            pair = (_idata[vector_index1], _idata[vector_index2])\n",
    "\n",
    "                            position = np.argmin(np.sqrt(np.sum(np.power(w - pair[0], 2), axis=1)))\n",
    "                            x1 = position % _n\n",
    "                            y1 = position // _n\n",
    "                            u1 = np.array([x1, y1])\n",
    "\n",
    "                            position = np.argmin(np.sqrt(np.sum(np.power(w - pair[1], 2), axis=1)))\n",
    "                            x2 = position % _n\n",
    "                            y2 = position // _n\n",
    "                            u2 = np.array([x2, y2])\n",
    "\n",
    "                            distance = np.sqrt(np.sum(np.power(u1 - u2, 2)))\n",
    "                            distanceMatrix[s][i][j] += distance\n",
    "                if _k == 0:\n",
    "                    distanceMatrix[s][i][j] = 0\n",
    "                else:\n",
    "                    distanceMatrix[s][i][j] = distanceMatrix[s][i][j] / _k\n",
    "\n",
    "    distanceMatrixAvg = distanceMatrix.sum(axis=0)/_s\n",
    "\n",
    "    norm = distanceMatrixAvg.max() - distanceMatrixAvg.min()\n",
    "    if norm <= 0.0000001:\n",
    "        norm = 0.0000001\n",
    "    distanceMatrixNormalized = (distanceMatrixAvg - distanceMatrixAvg.min())/norm\n",
    "\n",
    "    return distanceMatrixNormalized"
   ]
  },
  {
   "cell_type": "markdown",
   "id": "52c29769",
   "metadata": {
    "collapsed": false
   },
   "source": [
    "# Old but New Algorithm"
   ]
  },
  {
   "cell_type": "code",
   "execution_count": null,
   "id": "12fcced2",
   "metadata": {
    "collapsed": false
   },
   "outputs": [],
   "source": [
    "def get_comparison_histo_old(_m, _n, _weights_main, _idata, _weights_compare):\n",
    "    _s = len(_weights_compare)\n",
    "    vectorMaxLength = 0\n",
    "\n",
    "    for i in _idata:\n",
    "        if len(i) > vectorMaxLength:\n",
    "            vectorMaxLength = len(i)\n",
    "    counterMatrix = np.zeros((_m , _n))\n",
    "    vectorMatrix = np.zeros((len(_idata), _m , _n, vectorMaxLength))\n",
    "\n",
    "\n",
    "        #distance calculation\n",
    "    for vector in _idata:\n",
    "        position =np.argmin(np.sqrt(np.sum(np.power(_weights_main - vector, 2), axis=1)))\n",
    "        x1 = position % _n\n",
    "        y1 = position // _n\n",
    "\n",
    "        b = int(counterMatrix[y1][x1])\n",
    "            \n",
    "        vectorMatrix[b][y1][x1] = vector\n",
    "        counterMatrix[y1][x1] += 1\n",
    "\n",
    "    distanceMatrix = np.zeros((_m, _n))\n",
    "\n",
    "    for k, w in enumerate(_weights_compare):\n",
    "        w = w['arr']\n",
    "        for j in range(_n):\n",
    "            for i in range(_m):\n",
    "                positions_compare = []\n",
    "                for v in range (int(counterMatrix[i][j])):\n",
    "                    vector = vectorMatrix[v][i][j]\n",
    "\n",
    "                    position_compare =np.argmin(np.sqrt(np.sum(np.power(w - vector, 2), axis=1)))\n",
    "                    x2 = position_compare % _n\n",
    "                    y2 = position_compare // _n\n",
    "                    positions_compare.append((x2,y2))\n",
    "                \n",
    "                pairwise_distance_sum = 0\n",
    "                for x in range(len(positions_compare)):\n",
    "                    for y in range(x):\n",
    "                        pairwise_distance_sum += math.sqrt((positions_compare[y][0] - positions_compare[x][0])**2 + (positions_compare[y][1] - positions_compare[x][1])**2)\n",
    "\n",
    "                if len(positions_compare) > 0:\n",
    "                    distanceMatrix[i][j] += pairwise_distance_sum/len(positions_compare)        \n",
    "\n",
    "    distanceMatrix = distanceMatrix / len(_weights_compare)\n",
    "\n",
    "    return distanceMatrix"
   ]
  },
  {
   "cell_type": "markdown",
   "id": "757917f7-9a8f-4b6d-9189-aa654c2f2720",
   "metadata": {},
   "source": [
    "### Get a hit histogram of a SOM"
   ]
  },
  {
   "cell_type": "code",
   "execution_count": null,
   "id": "73591cce-055c-4c19-9d34-65d449528d52",
   "metadata": {
    "ExecuteTime": {
     "end_time": "2024-02-04T17:56:30.905166596Z",
     "start_time": "2024-02-04T17:56:30.810099365Z"
    }
   },
   "outputs": [],
   "source": [
    "#HitHistogram\n",
    "def get_histo(_m, _n, _weights, _idata):\n",
    "    hist = np.zeros(_m * _n)\n",
    "    for vector in _idata: \n",
    "        position =np.argmin(np.sqrt(np.sum(np.power(_weights - vector, 2), axis=1)))\n",
    "        hist[position] += 1\n",
    "\n",
    "    norm = hist.max() - hist.min()\n",
    "    if norm <= 0.0000001:\n",
    "        norm = 0.0000001\n",
    "    hist = (hist - hist.min())/norm\n",
    "\n",
    "    return hist.reshape(_m, _n)"
   ]
  },
  {
   "cell_type": "markdown",
   "id": "fe7aff94-db94-4cae-b221-3b9a3eb0158b",
   "metadata": {},
   "source": [
    "### Show comparison histogram and hit histogram of main and comparison SOMs"
   ]
  },
  {
   "cell_type": "code",
   "execution_count": null,
   "id": "ac7393fb-9332-474d-941a-edb0c7c7f1cc",
   "metadata": {
    "ExecuteTime": {
     "end_time": "2024-02-04T17:56:30.994059776Z",
     "start_time": "2024-02-04T17:56:30.892701168Z"
    }
   },
   "outputs": [],
   "source": [
    "def show_comparison_histo(main, compare, show_SOMs=True, base_folder=chainlink_base_folder, _idata=chainlink_idata):\n",
    "    # Change filenames to filepath\n",
    "    weights_main = SOMToolBox_Parse(os.path.join(base_folder, 'compare', main)).read_weight_file()\n",
    "    \n",
    "    weights_compare_path = []\n",
    "    weights_compare = []\n",
    "    for f in compare:\n",
    "        f = os.path.join(base_folder, 'compare', f)\n",
    "        weights_compare_path.append(f)\n",
    "        w = SOMToolBox_Parse(f).read_weight_file()\n",
    "        weights_compare.append(w)\n",
    "\n",
    "    soms = []\n",
    "    \n",
    "    # Show SOMs\n",
    "    if show_SOMs:\n",
    "        som = get_histo(weights_main['ydim'], weights_main['xdim'], weights_main['arr'], _idata['arr'])\n",
    "        som = hv.Image(som).opts(xaxis=None, yaxis=None)   \n",
    "        soms.append(som.relabel('Main SOM Hit Hist').opts(cmap='jet'))\n",
    "        for w in weights_compare:\n",
    "            som = get_histo(w['ydim'], w['xdim'], w['arr'], _idata['arr'])\n",
    "            som = hv.Image(som).opts(xaxis=None, yaxis=None)\n",
    "            soms.append(som.relabel('SOM Hit Hist').opts(cmap='jet'))\n",
    "    \n",
    "    # Show Comparison between Main and Comparison SOMs\n",
    "    comparison = get_comparison_histo_old(weights_main['ydim'], weights_main['xdim'], weights_main['arr'], _idata['arr'], weights_compare)\n",
    "    comparison = hv.Image(comparison).opts(xaxis=None, yaxis=None)   \n",
    "    soms.append(comparison.relabel('Colored Comparison').opts(cmap='jet'))\n",
    "    layout = hv.Layout(soms)\n",
    "    show_layout(layout)"
   ]
  },
  {
   "cell_type": "markdown",
   "id": "0f436f60-3df1-4798-9450-63f645474bac",
   "metadata": {},
   "source": [
    "# Datasets\n",
    "\n",
    "All of our SOMs were trained on the chainlink and clustering dataset with the Java based SOMToolbox. The small SOM has 10x10 units, and the large SOM has 60x100 units.\n",
    "\n",
    "Where not mentioned otherwise, training used the following parameters:\n",
    "\n",
    "`learnRate=0.3, sigma=7, randomSeed=7` for the chainlink dataset and `learnRate=0.3, randomSeed=7` for the clustering datasets.  "
   ]
  },
  {
   "cell_type": "markdown",
   "id": "1095bd66-9c05-4a53-8784-0adc1dcd42e0",
   "metadata": {},
   "source": [
    "# Comparisons\n",
    "\n",
    "Each comparison has one main SOM and one or more SOMs that the main SOM is compared with. We visualize all SOMs (main and comparison) and the resulting colored comparison map between them. The main SOM is always the map labeled \"Main SOM\" and the resulting comparison is always the map labeled \"Colored Comparison\". All other graphs are the SOMs that the main SOM is compared with."
   ]
  },
  {
   "cell_type": "markdown",
   "id": "b0c85e80-dae7-41e9-a5fc-d160b1b68cf7",
   "metadata": {},
   "source": [
    "### Comparing a SOM with itself\n",
    "\n",
    "When a SOM is compared with itself, there shouldn't be any differences. The comparison histogram is therefore 0 in all units. Its visualization has the same color in all units. We use a small SOM trained on the chainlink dataset, and a small SOM trained on the 10-clusters dataset."
   ]
  },
  {
   "cell_type": "markdown",
   "id": "d5dfb5c0-27c1-4c04-b032-d5c60154461e",
   "metadata": {},
   "source": [
    "**Small SOM Chainlink Dataset**"
   ]
  },
  {
   "cell_type": "code",
   "execution_count": null,
   "id": "3e192fb585444135",
   "metadata": {
    "ExecuteTime": {
     "end_time": "2024-02-04T17:56:33.066002916Z",
     "start_time": "2024-02-04T17:56:30.963599124Z"
    },
    "collapsed": false,
    "jupyter": {
     "outputs_hidden": false
    }
   },
   "outputs": [],
   "source": [
    "show_comparison_histo(\n",
    "    main=\"chainlink_1000.wgt.gz\", \n",
    "    compare=[\"chainlink_1000.wgt.gz\"],\n",
    ")"
   ]
  },
  {
   "cell_type": "markdown",
   "id": "ba6290e9-669a-4bf4-a64d-d783a5792a48",
   "metadata": {},
   "source": [
    "**Small SOM Clustering Dataset**"
   ]
  },
  {
   "cell_type": "code",
   "execution_count": null,
   "id": "3fd468d5-8ec5-494a-acf4-4defc5503858",
   "metadata": {},
   "outputs": [],
   "source": [
    "show_comparison_histo(\n",
    "    base_folder=cluster_base_folder,\n",
    "    _idata=cluster_idata,\n",
    "    main=\"10clusters_1000.wgt.gz\", \n",
    "    compare=[\"10clusters_1000.wgt.gz\"],\n",
    ")"
   ]
  },
  {
   "cell_type": "markdown",
   "id": "af2390af-d264-4220-beff-1c2255ce34cc",
   "metadata": {},
   "source": [
    "### Comparing a SOM with different random seeds\n",
    "\n",
    "In this experiment, Main and Comparison SOMs are trained with exactly the same parameters. The SOMs only differ by the random seed that was used during training. The Main SOM has seed 7, the others have seeds 1-6. We can see the non-deterministic nature of SOM-training here. The Comparison histogram shows large differences in almost all relevant units."
   ]
  },
  {
   "cell_type": "markdown",
   "id": "742dcda6-90eb-4097-a53f-299d3149dc56",
   "metadata": {},
   "source": [
    "**Small SOM Chainlink Dataset**"
   ]
  },
  {
   "cell_type": "code",
   "execution_count": null,
   "id": "4aa1948b-7696-4d8d-96f0-b8f660b5f88f",
   "metadata": {
    "ExecuteTime": {
     "end_time": "2024-02-04T17:56:36.640302538Z",
     "start_time": "2024-02-04T17:56:33.064868471Z"
    }
   },
   "outputs": [],
   "source": [
    "show_comparison_histo(\n",
    "    main=\"chainlink_1000.wgt.gz\", \n",
    "    compare=[\"chainlink_1000_1.wgt.gz\", \n",
    "             \"chainlink_1000_2.wgt.gz\", \n",
    "             \"chainlink_1000_3.wgt.gz\", \n",
    "             \"chainlink_1000_4.wgt.gz\", \n",
    "             \"chainlink_1000_5.wgt.gz\", \n",
    "             \"chainlink_1000_6.wgt.gz\"]\n",
    ")"
   ]
  },
  {
   "cell_type": "markdown",
   "id": "47c1b3c5-dc90-4110-87bb-ffa8564871cc",
   "metadata": {},
   "source": [
    "**Small SOM 10-clusters Dataset**"
   ]
  },
  {
   "cell_type": "code",
   "execution_count": null,
   "id": "91a18901-4928-4caa-90c9-b6846641ba18",
   "metadata": {},
   "outputs": [],
   "source": [
    "show_comparison_histo(\n",
    "    base_folder=cluster_base_folder,\n",
    "    _idata=cluster_idata,\n",
    "    main=\"10clusters_1000.wgt.gz\", \n",
    "    compare=[\"10clusters_1000_1.wgt.gz\", \n",
    "             \"10clusters_1000_2.wgt.gz\", \n",
    "             \"10clusters_1000_3.wgt.gz\", \n",
    "             \"10clusters_1000_4.wgt.gz\", \n",
    "             \"10clusters_1000_5.wgt.gz\", \n",
    "             \"10clusters_1000_6.wgt.gz\"]\n",
    ")"
   ]
  },
  {
   "cell_type": "markdown",
   "id": "ccc84255-bfbd-43ce-9e9a-c0dc3ad4658b",
   "metadata": {},
   "source": [
    "**Large SOM Chainlink Dataset**"
   ]
  },
  {
   "cell_type": "code",
   "execution_count": null,
   "id": "18ad1af5-08df-440a-85f7-1bfccfa5abfb",
   "metadata": {
    "ExecuteTime": {
     "end_time": "2024-02-04T17:57:28.898500497Z",
     "start_time": "2024-02-04T17:56:36.641644203Z"
    }
   },
   "outputs": [],
   "source": [
    "\n",
    "show_comparison_histo(\n",
    "    main=\"chainlink_L_100000.wgt.gz\", \n",
    "    compare=[\"chainlink_L_100000_1.wgt.gz\", \n",
    "             \"chainlink_L_100000_2.wgt.gz\", \n",
    "             \"chainlink_L_100000_3.wgt.gz\", \n",
    "             \"chainlink_L_100000_4.wgt.gz\", \n",
    "             \"chainlink_L_100000_5.wgt.gz\", \n",
    "             \"chainlink_L_100000_6.wgt.gz\"]\n",
    ")"
   ]
  },
  {
   "cell_type": "markdown",
   "id": "a71c44ec-5621-4a7b-94e3-d1575a8a79b6",
   "metadata": {},
   "source": [
    "**Large SOM Clustering Dataset**"
   ]
  },
  {
   "cell_type": "code",
   "execution_count": null,
   "id": "bac9cefb-7a55-4829-93ff-e5bc55092fe2",
   "metadata": {},
   "outputs": [],
   "source": [
    "show_comparison_histo(\n",
    "    base_folder=cluster_base_folder,\n",
    "    _idata=cluster_idata,\n",
    "    main=\"10clusters_L_100000.wgt.gz\", \n",
    "    compare=[\"10clusters_L_100000_1.wgt.gz\", \n",
    "             \"10clusters_L_100000_2.wgt.gz\", \n",
    "             \"10clusters_L_100000_3.wgt.gz\", \n",
    "             \"10clusters_L_100000_4.wgt.gz\", \n",
    "             \"10clusters_L_100000_5.wgt.gz\", \n",
    "             \"10clusters_L_100000_6.wgt.gz\"]\n",
    ")"
   ]
  },
  {
   "cell_type": "markdown",
   "id": "db462bf8-d4f6-4042-a3e7-f653138a2c78",
   "metadata": {},
   "source": [
    "### Comparing SOMs from neighbouring training iterations\n",
    "\n",
    "The main small SOM is trained in 1000 iterations and compared to the SOMs after 1001, 1005 and 1100 iterations.\n",
    "The main large SOM is trained in 100,000 iterations and compared to the SOMs after 100,100 and 110,000 iterations.\n",
    "All SOMs are trained with the same seed (7) to ensure deterministic training. \n",
    "The comparison shows there there is only small differences between the SOMs because the SOM does not change much in a low number of iterations, and the SOM also does not change much when training is close to conversion.\n",
    "\n",
    "We also provide the comparison result of the Java SOMToolbox. There are some minor differences between our implementation and the SOMToolbox in the case of the small SOM, but overall the results are similar. For the large SOM, there seems to be an issue in the Java SOMToolbox. It seems as though units with only one vector are not accurately compared in the Toolbox, and the result only shows differences in some units. Since our large SOM has more more units than vectors, almost all units contain only one vector. The SOMToolbox might be using thresholding for the pairwise distances, whereas we do not. "
   ]
  },
  {
   "cell_type": "markdown",
   "id": "7ab3fb68-a6af-480d-afb4-5acd0a165ef6",
   "metadata": {},
   "source": [
    "**Small SOM Chainlink Dataset**"
   ]
  },
  {
   "cell_type": "code",
   "execution_count": null,
   "id": "28c2c25f-83f9-400f-b08d-8b35b7c485aa",
   "metadata": {
    "ExecuteTime": {
     "end_time": "2024-02-04T17:57:33.993195382Z",
     "start_time": "2024-02-04T17:57:28.893786059Z"
    }
   },
   "outputs": [],
   "source": [
    "show_comparison_histo(\n",
    "    main=\"chainlink_1000.wgt.gz\", \n",
    "    compare=[\"chainlink_1001.wgt.gz\",\n",
    "            \"chainlink_1005.wgt.gz\",\n",
    "            \"chainlink_1100.wgt.gz\"]\n",
    ")"
   ]
  },
  {
   "cell_type": "markdown",
   "id": "1e1f853a-b206-4da7-8a69-2b945822043f",
   "metadata": {},
   "source": [
    "**Small SOM Chainlink Dataset - SOMToolbox comparison**"
   ]
  },
  {
   "cell_type": "code",
   "execution_count": null,
   "id": "8658ed47-4e04-457f-a8a7-a3e9d69ba5e3",
   "metadata": {},
   "outputs": [],
   "source": [
    "image_path = os.path.join(chainlink_base_folder, 'compare', 'compare_1000_to_1001_1005_1100.png')\n",
    "display(Markdown(f\"Java SOMToolbox Comparison\"))\n",
    "display(Image(filename=image_path, width=300, height=300))"
   ]
  },
  {
   "cell_type": "markdown",
   "id": "40444259-8025-437f-8ac1-bbd56f8fb224",
   "metadata": {},
   "source": [
    "**Small SOM Clustering Dataset**"
   ]
  },
  {
   "cell_type": "code",
   "execution_count": null,
   "id": "bbaff99e-d315-4648-9b7c-f8d4910b014d",
   "metadata": {},
   "outputs": [],
   "source": [
    "show_comparison_histo(\n",
    "    base_folder=cluster_base_folder,\n",
    "    _idata=cluster_idata,\n",
    "    main=\"10clusters_1000.wgt.gz\", \n",
    "    compare=[\"10clusters_1001.wgt.gz\",\n",
    "            \"10clusters_1005.wgt.gz\",\n",
    "            \"10clusters_1100.wgt.gz\"]\n",
    ")"
   ]
  },
  {
   "cell_type": "markdown",
   "id": "e66ece0a-0901-4d32-ba71-7ed2dbd97b32",
   "metadata": {},
   "source": [
    "**Small SOM Clustering Dataset - SOMToolbox comparison**"
   ]
  },
  {
   "cell_type": "code",
   "execution_count": null,
   "id": "26f47f69-eb69-4d52-932a-e4dfa72890e9",
   "metadata": {
    "ExecuteTime": {
     "end_time": "2024-02-04T17:57:34.056440550Z",
     "start_time": "2024-02-04T17:57:33.997563754Z"
    }
   },
   "outputs": [],
   "source": [
    "image_path = os.path.join(cluster_base_folder, 'compare', 'compare_1000_to_1001_1005_1100.png')\n",
    "display(Markdown(f\"Java SOMToolbox Comparison\"))\n",
    "display(Image(filename=image_path, width=300, height=300))"
   ]
  },
  {
   "cell_type": "markdown",
   "id": "f52ab58e-15d2-41ae-b0ec-2add99a1fc20",
   "metadata": {},
   "source": [
    "**Large SOM Chainlink Dataset**"
   ]
  },
  {
   "cell_type": "code",
   "execution_count": null,
   "id": "eef94c05-b5f1-4255-b253-6dc9e6e9593d",
   "metadata": {
    "ExecuteTime": {
     "end_time": "2024-02-04T17:57:57.869265768Z",
     "start_time": "2024-02-04T17:57:34.051179536Z"
    }
   },
   "outputs": [],
   "source": [
    "show_comparison_histo(\n",
    "    main=\"chainlink_L_100000.wgt.gz\", \n",
    "    compare=[\"chainlink_L_100100.wgt.gz\",\n",
    "            \"chainlink_L_110000.wgt.gz\"]\n",
    ")"
   ]
  },
  {
   "cell_type": "markdown",
   "id": "f301b7fb-f962-47b4-8070-6d573b69e37d",
   "metadata": {},
   "source": [
    "**Large SOM Chainlink Dataset - SOMToolbox comparison**"
   ]
  },
  {
   "cell_type": "code",
   "execution_count": null,
   "id": "9d765261-80b7-4e37-bfc4-6719d27c2559",
   "metadata": {
    "ExecuteTime": {
     "end_time": "2024-02-04T17:57:57.937161511Z",
     "start_time": "2024-02-04T17:57:57.869102276Z"
    }
   },
   "outputs": [],
   "source": [
    "image_path = os.path.join(chainlink_base_folder, 'compare', 'compare_100000_to_1100000_100100.png')\n",
    "display(Markdown(f\"Java SOMToolbox Comparison\"))\n",
    "display(Image(filename=image_path, width=300, height=300))"
   ]
  },
  {
   "cell_type": "markdown",
   "id": "6baafd93-645e-470d-b6f4-f0dbe26caf75",
   "metadata": {},
   "source": [
    "**Large SOM 10-clusters Dataset**"
   ]
  },
  {
   "cell_type": "code",
   "execution_count": null,
   "id": "1fa1edd1-35f0-471a-9255-75e7a1d5079c",
   "metadata": {},
   "outputs": [],
   "source": [
    "show_comparison_histo(\n",
    "    base_folder=cluster_base_folder,\n",
    "    _idata=cluster_idata,\n",
    "    main=\"10clusters_L_100000.wgt.gz\", \n",
    "    compare=[\"10clusters_L_100100.wgt.gz\",\n",
    "            \"10clusters_L_110000.wgt.gz\"]\n",
    ")"
   ]
  },
  {
   "cell_type": "markdown",
   "id": "9e83d1f8-e6ae-4026-b5bd-17a2cb9882d8",
   "metadata": {},
   "source": [
    "**Large SOM 10-clusters Dataset - SOMToolbox comparison**"
   ]
  },
  {
   "cell_type": "code",
   "execution_count": null,
   "id": "cba86f8e-6475-4ce4-bb73-32f1f4a7c95d",
   "metadata": {},
   "outputs": [],
   "source": [
    "image_path = os.path.join(cluster_base_folder, 'compare', 'compare_100000_to_100100_110000.png')\n",
    "display(Markdown(f\"Java SOMToolbox Comparison\"))\n",
    "display(Image(filename=image_path, width=300, height=300))"
   ]
  },
  {
   "cell_type": "markdown",
   "id": "b5eb083a-67f4-4c85-a759-c1d8ba8b55a7",
   "metadata": {},
   "source": [
    "### Comparing SOMs from far apart training iterations\n",
    "\n",
    "The main small SOM is trained in 1000 iterations and compared to the SOMs after 3000 and 10000 iterations.\n",
    "The main large SOM is trained in 100,000 iterations and compared to the SOMs after 1000 and 10,000 iterations.\n",
    "All SOMs are trained with the same seed (7) to ensure deterministic training. \n",
    "Unsurprisingly, the comparison shows there is large differences between SOMs of far apart training iterations."
   ]
  },
  {
   "cell_type": "markdown",
   "id": "bb121bbd-c98c-4aa6-a0b3-e1d6c5c96278",
   "metadata": {},
   "source": [
    "**Small SOM Chainlink Dataset**"
   ]
  },
  {
   "cell_type": "code",
   "execution_count": null,
   "id": "90a3959a-7e7a-47f7-bcd4-98c699864253",
   "metadata": {
    "ExecuteTime": {
     "end_time": "2024-02-04T17:58:40.497937486Z",
     "start_time": "2024-02-04T17:57:57.912126168Z"
    }
   },
   "outputs": [],
   "source": [
    "show_comparison_histo(\n",
    "    main=\"chainlink_1000.wgt.gz\", \n",
    "    compare=[\"chainlink_3000.wgt.gz\",\n",
    "            \"chainlink_10000.wgt.gz\"]\n",
    ")"
   ]
  },
  {
   "cell_type": "markdown",
   "id": "7423cdf7-0005-44be-a71d-23189eeba20e",
   "metadata": {},
   "source": [
    "**Small SOM 10-clusters Dataset**"
   ]
  },
  {
   "cell_type": "code",
   "execution_count": null,
   "id": "fbe69df6-9712-400f-be29-9a03cba09916",
   "metadata": {},
   "outputs": [],
   "source": [
    "show_comparison_histo(\n",
    "    base_folder=cluster_base_folder,\n",
    "    _idata=cluster_idata,\n",
    "    main=\"10clusters_1000.wgt.gz\", \n",
    "    compare=[\"10clusters_3000.wgt.gz\",\n",
    "            \"10clusters_10000.wgt.gz\"]\n",
    ")"
   ]
  },
  {
   "cell_type": "markdown",
   "id": "cf6c2b6d-e5f4-4dc9-a1d1-7f1d33e0530f",
   "metadata": {},
   "source": [
    "**Large SOM Chainlink Dataset**"
   ]
  },
  {
   "cell_type": "code",
   "execution_count": null,
   "id": "93ee8125-57c4-4218-80bd-b38090285d9d",
   "metadata": {
    "ExecuteTime": {
     "end_time": "2024-02-04T17:58:41.705200627Z",
     "start_time": "2024-02-04T17:58:03.738438875Z"
    }
   },
   "outputs": [],
   "source": [
    "show_comparison_histo(\n",
    "    main=\"chainlink_L_100000.wgt.gz\", \n",
    "    compare=[\"chainlink_L_1000.wgt.gz\",\n",
    "            \"chainlink_L_10000.wgt.gz\"]\n",
    ")"
   ]
  },
  {
   "cell_type": "markdown",
   "id": "d2deeaad-1bde-4751-b140-17143d66bbdd",
   "metadata": {
    "ExecuteTime": {
     "end_time": "2024-02-04T17:58:41.706642834Z",
     "start_time": "2024-02-04T17:58:37.379790863Z"
    }
   },
   "source": [
    "**Large SOM 10-clusters Dataset**"
   ]
  },
  {
   "cell_type": "code",
   "execution_count": null,
   "id": "4e492a34-e35d-4c9c-bf09-5de3b3e34c3d",
   "metadata": {},
   "outputs": [],
   "source": [
    "show_comparison_histo(\n",
    "    base_folder=cluster_base_folder,\n",
    "    _idata=cluster_idata,\n",
    "    main=\"10clusters_L_100000.wgt.gz\", \n",
    "    compare=[\"10clusters_L_1000.wgt.gz\",\n",
    "            \"10clusters_L_10000.wgt.gz\"]\n",
    ")"
   ]
  },
  {
   "cell_type": "code",
   "execution_count": null,
   "id": "d2e0089c-09a6-45c4-aae8-112c528a03ab",
   "metadata": {},
   "outputs": [],
   "source": []
  }
 ],
 "metadata": {
  "kernelspec": {
   "display_name": "Python 3 (ipykernel)",
   "language": "python",
   "name": "python3"
  },
  "language_info": {
   "codemirror_mode": {
    "name": "ipython",
    "version": 3
   },
   "file_extension": ".py",
   "mimetype": "text/x-python",
   "name": "python",
   "nbconvert_exporter": "python",
   "pygments_lexer": "ipython3",
   "version": "3.11.8"
  }
 },
 "nbformat": 4,
 "nbformat_minor": 5
}
